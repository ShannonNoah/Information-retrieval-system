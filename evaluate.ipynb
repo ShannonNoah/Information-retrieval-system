{
  "nbformat": 4,
  "nbformat_minor": 0,
  "metadata": {
    "colab": {
      "provenance": []
    },
    "kernelspec": {
      "name": "python3",
      "display_name": "Python 3"
    },
    "language_info": {
      "name": "python"
    }
  },
  "cells": [
    {
      "cell_type": "code",
      "execution_count": 20,
      "metadata": {
        "id": "abHIqQbMPVYn",
        "outputId": "cc950d17-e5cc-4049-cd2f-2bef4d716c5e",
        "colab": {
          "base_uri": "https://localhost:8080/"
        }
      },
      "outputs": [
        {
          "output_type": "stream",
          "name": "stdout",
          "text": [
            "fatal: destination path 'trec_eval' already exists and is not an empty directory.\n",
            "make: 'trec_eval' is up to date.\n"
          ]
        }
      ],
      "source": [
        "!git clone https://github.com/usnistgov/trec_eval.git\n",
        "!cd trec_eval && make\n"
      ]
    },
    {
      "cell_type": "code",
      "source": [
        "import pandas as pd\n",
        "\n",
        "# load the results file skipping the first row (header)\n",
        "results_df = pd.read_csv('/content/Results.txt', sep='\\s+', header=0, names=[\"query_id\", \"Q0\", \"doc_id\", \"rank\", \"score\", \"tag\"])\n",
        "\n",
        "# convert query_id to string type\n",
        "results_df['query_id'] = results_df['query_id'].astype(str)\n",
        "\n",
        "# clean the query_id column\n",
        "results_df['query_id'] = results_df['query_id'].str.replace('Q0-', '', regex=False)\n",
        "\n",
        "# save the cleaned results file (without the header)\n",
        "results_df.to_csv('/content/cleaned_Results.txt', sep=' ', index=False, header=False)\n",
        "\n",
        "# run the trec_eval on the cleaned results\n",
        "!cd trec_eval && ./trec_eval /content/test.qrel /content/cleaned_Results.txt\n"
      ],
      "metadata": {
        "colab": {
          "base_uri": "https://localhost:8080/"
        },
        "id": "hcArgCZiSIIq",
        "outputId": "edfbdcb7-bbf8-43c2-a378-4f1462c05126"
      },
      "execution_count": 22,
      "outputs": [
        {
          "output_type": "stream",
          "name": "stdout",
          "text": [
            "runid                 \tall\t5d7d54f3-bbcd-4a7b-ae8d-78bbf505b716\n",
            "num_q                 \tall\t300\n",
            "num_ret               \tall\t29931\n",
            "num_rel               \tall\t339\n",
            "num_rel_ret           \tall\t297\n",
            "map                   \tall\t0.4657\n",
            "gm_map                \tall\t0.0918\n",
            "Rprec                 \tall\t0.3512\n",
            "bpref                 \tall\t0.8759\n",
            "recip_rank            \tall\t0.4773\n",
            "iprec_at_recall_0.00  \tall\t0.4774\n",
            "iprec_at_recall_0.10  \tall\t0.4774\n",
            "iprec_at_recall_0.20  \tall\t0.4774\n",
            "iprec_at_recall_0.30  \tall\t0.4773\n",
            "iprec_at_recall_0.40  \tall\t0.4762\n",
            "iprec_at_recall_0.50  \tall\t0.4735\n",
            "iprec_at_recall_0.60  \tall\t0.4735\n",
            "iprec_at_recall_0.70  \tall\t0.4704\n",
            "iprec_at_recall_0.80  \tall\t0.4577\n",
            "iprec_at_recall_0.90  \tall\t0.4544\n",
            "iprec_at_recall_1.00  \tall\t0.4544\n",
            "P_5                   \tall\t0.1280\n",
            "P_10                  \tall\t0.0733\n",
            "P_15                  \tall\t0.0547\n",
            "P_20                  \tall\t0.0427\n",
            "P_30                  \tall\t0.0303\n",
            "P_100                 \tall\t0.0099\n",
            "P_200                 \tall\t0.0049\n",
            "P_500                 \tall\t0.0020\n",
            "P_1000                \tall\t0.0010\n"
          ]
        }
      ]
    }
  ]
}